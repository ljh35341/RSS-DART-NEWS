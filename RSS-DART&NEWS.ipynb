{
 "cells": [
  {
   "cell_type": "markdown",
   "metadata": {},
   "source": [
    "# 최근공시\n",
    "- 최근공시는 최근 50개의 공시(지분, 펀드 제외)를 불러옵니다.\n",
    "- RSS: http://dart.fss.or.kr/api/todayRSS.xml"
   ]
  },
  {
   "cell_type": "code",
   "execution_count": 59,
   "metadata": {},
   "outputs": [],
   "source": [
    "from bs4 import BeautifulSoup\n",
    "import requests as rq\n",
    "\n",
    "url = 'http://dart.fss.or.kr/api/todayRSS.xml'\n",
    "res = rq.get(url)\n",
    "soup = BeautifulSoup(res.content, 'lxml')\n",
    "\n",
    "list = []\n",
    "titles = soup.find_all('title')\n",
    "for title in titles:\n",
    "    list.append(title.text)"
   ]
  },
  {
   "cell_type": "code",
   "execution_count": 63,
   "metadata": {
    "scrolled": true
   },
   "outputs": [
    {
     "data": {
      "text/plain": [
       "['DART : 최근공시',\n",
       " '(유가)명문제약 - [기재정정]매출액또는손익구조30%(대규모법인은15%)이상변경',\n",
       " '(코스닥)엠젠플러스 - 기타시장안내(최대주주의의무보유관련)',\n",
       " '(코스닥)코콤 - 주주총회소집결의',\n",
       " '(코스닥)TPC - 현금ㆍ현물배당결정']"
      ]
     },
     "execution_count": 63,
     "metadata": {},
     "output_type": "execute_result"
    }
   ],
   "source": [
    "list[:5]"
   ]
  },
  {
   "cell_type": "markdown",
   "metadata": {},
   "source": [
    "# 회사별 공시\n",
    "- 상장회사의 최근 5영업일의 공시를 불러옵니다.\n",
    "- RSS: http://dart.fss.or.kr/api/companyRSS.xml?crpCd=00199252"
   ]
  },
  {
   "cell_type": "code",
   "execution_count": 82,
   "metadata": {},
   "outputs": [],
   "source": [
    "dict = {\n",
    "    '삼성전자':'00126380',\n",
    "    '에이치엘비':'00199252'\n",
    "}"
   ]
  },
  {
   "cell_type": "code",
   "execution_count": 103,
   "metadata": {},
   "outputs": [],
   "source": [
    "from bs4 import BeautifulSoup\n",
    "import requests as rq\n",
    "\n",
    "list = []\n",
    "for key in dict:\n",
    "    url = 'http://dart.fss.or.kr/api/companyRSS.xml?crpCd='+dict[key]\n",
    "    res = rq.get(url)\n",
    "    soup = BeautifulSoup(res.content, 'lxml')\n",
    "    titles = soup.find_all('title')\n",
    "    for title in titles:\n",
    "        list.append(title.text)"
   ]
  },
  {
   "cell_type": "code",
   "execution_count": 105,
   "metadata": {},
   "outputs": [
    {
     "data": {
      "text/plain": [
       "['DART : (유가)삼성전자의 공시',\n",
       " '(유가)삼성전자 - 감사보고서제출',\n",
       " '(유가)삼성전자 - 임원ㆍ주요주주특정증권등소유상황보고서',\n",
       " '(유가)삼성전자 - 참고서류',\n",
       " '(유가)삼성전자 - 주주총회소집공고']"
      ]
     },
     "execution_count": 105,
     "metadata": {},
     "output_type": "execute_result"
    }
   ],
   "source": [
    "list[:5]"
   ]
  },
  {
   "cell_type": "markdown",
   "metadata": {},
   "source": [
    "# [HTML]회사별 공시\n",
    "- 상장회사의 최근 5영업일의 공시를 불러옵니다.\n",
    "- RSS: http://dart.fss.or.kr/api/companyRSS.xml?crpCd=00199252\n",
    "- < a href=\"링크\" >\"제목\"< /a >\n",
    "- 링크[i]와 제목[i+1]의 index 불일치: 제목 첫줄이 종목명이므로"
   ]
  },
  {
   "cell_type": "code",
   "execution_count": 1,
   "metadata": {},
   "outputs": [],
   "source": [
    "dict = {\n",
    "    '삼성전자':'00126380',\n",
    "    '에이치엘비':'00199252'\n",
    "}"
   ]
  },
  {
   "cell_type": "code",
   "execution_count": 2,
   "metadata": {},
   "outputs": [],
   "source": [
    "from bs4 import BeautifulSoup\n",
    "import requests as rq\n",
    "\n",
    "result = []\n",
    "for key in dict:\n",
    "    list_title = []\n",
    "    list_guid = []\n",
    "    url = 'http://dart.fss.or.kr/api/companyRSS.xml?crpCd='+dict[key]\n",
    "    res = rq.get(url)\n",
    "    soup = BeautifulSoup(res.content, 'lxml')\n",
    "    titles = soup.find_all('title')\n",
    "    for title in titles:\n",
    "        list_title.append(title.text)\n",
    "    guids = soup.find_all('guid')\n",
    "    for guid in guids:\n",
    "        list_guid.append(guid.text)\n",
    "    for i in range(len(list_guid)):\n",
    "        html_content = \"<a href=\"+list_guid[i]+\">\"+list_title[i+1]+\"</a>\"\n",
    "        result.append(html_content)"
   ]
  },
  {
   "cell_type": "code",
   "execution_count": 3,
   "metadata": {},
   "outputs": [
    {
     "data": {
      "text/plain": [
       "['<a href=http://dart.fss.or.kr/api/link.jsp?rcpNo=20200224800567>(유가)삼성전자 - 감사보고서제출</a>',\n",
       " '<a href=http://dart.fss.or.kr/api/link.jsp?rcpNo=20200221001582>(유가)삼성전자 - 임원ㆍ주요주주특정증권등소유상황보고서</a>',\n",
       " '<a href=http://dart.fss.or.kr/api/link.jsp?rcpNo=20200221001314>(유가)삼성전자 - 참고서류</a>',\n",
       " '<a href=http://dart.fss.or.kr/api/link.jsp?rcpNo=20200221001291>(유가)삼성전자 - 주주총회소집공고</a>',\n",
       " '<a href=http://dart.fss.or.kr/api/link.jsp?rcpNo=20200221800183>(유가)삼성전자 - 기타경영사항(자율공시) (사회공헌 매칭기금 및 충남삼성학원 기부금 출연)</a>']"
      ]
     },
     "execution_count": 3,
     "metadata": {},
     "output_type": "execute_result"
    }
   ],
   "source": [
    "result[:5]"
   ]
  },
  {
   "cell_type": "markdown",
   "metadata": {},
   "source": [
    "# [HTML]이투데이\n",
    "- '[HTML]회사별 공시' inheritance\n",
    "- 증권금융뉴스:http://rss.etoday.co.kr/eto/finance_news.xml\n",
    "- 기업뉴스:http://rss.etoday.co.kr/eto/company_news.xml\n",
    "- 정치경제뉴스:http://rss.etoday.co.kr/eto/economy_news.xml\n",
    "- 링크[i]와 제목[i]의 index 일치\n",
    "- title['alt'] 힌트출처:https://youtu.be/u8-Mx_7ZTik?list=PLXN8lhf60X9WQZe1bI3fBelvCHLmqlNAU&t=111"
   ]
  },
  {
   "cell_type": "code",
   "execution_count": 1,
   "metadata": {},
   "outputs": [],
   "source": [
    "dict = {\n",
    "    '증권금융뉴스':'http://rss.etoday.co.kr/eto/finance_news.xml',\n",
    "    '기업뉴스':'http://rss.etoday.co.kr/eto/company_news.xml',\n",
    "    '정치경제뉴스':'http://rss.etoday.co.kr/eto/economy_news.xml'\n",
    "}"
   ]
  },
  {
   "cell_type": "code",
   "execution_count": 2,
   "metadata": {},
   "outputs": [],
   "source": [
    "from bs4 import BeautifulSoup\n",
    "import requests as rq\n",
    "\n",
    "result = []\n",
    "for key in dict:\n",
    "    list_title = []\n",
    "    list_guid = []\n",
    "    url = dict[key]\n",
    "    res = rq.get(url)\n",
    "    soup = BeautifulSoup(res.content, 'lxml')\n",
    "    titles = soup.find_all('img')\n",
    "    for title in titles:\n",
    "        list_title.append(title['alt'])\n",
    "    guids = soup.find_all('guid')\n",
    "    for guid in guids:\n",
    "        list_guid.append(guid.text)\n",
    "    for i in range(len(list_guid)):\n",
    "        html_content = \"<a href=\"+list_guid[i]+\">\"+list_title[i]+\"</a>\"\n",
    "        result.append(html_content)"
   ]
  },
  {
   "cell_type": "code",
   "execution_count": 4,
   "metadata": {},
   "outputs": [
    {
     "data": {
      "text/plain": [
       "['<a href=http://www.etoday.co.kr/news/section/newsview.php?idxno=1861237>[채권마감] 불스팁속 5년물도 기준금리 역전, 코로나19에 금리인하</a>',\n",
       " \"<a href=http://www.etoday.co.kr/news/section/newsview.php?idxno=1861249>SK텔레콤, '코로나19' 여파에 전 직원 재택근무…25일부터 3월 1일까지</a>\",\n",
       " '<a href=http://www.etoday.co.kr/news/section/newsview.php?idxno=1861248>[BioS]지노믹트리, ‘코로나19’ 진단·치료 산학연구 협약</a>',\n",
       " \"<a href=http://www.etoday.co.kr/news/section/newsview.php?idxno=1861249>SK텔레콤, '코로나19' 여파에 전 직원 재택근무…25일부터 3월 1일까지</a>\",\n",
       " '<a href=http://www.etoday.co.kr/news/section/newsview.php?idxno=1861248>[BioS]지노믹트리, ‘코로나19’ 진단·치료 산학연구 협약</a>']"
      ]
     },
     "execution_count": 4,
     "metadata": {},
     "output_type": "execute_result"
    }
   ],
   "source": [
    "result[:5]"
   ]
  },
  {
   "cell_type": "markdown",
   "metadata": {},
   "source": [
    "# [HTML]매일경제\n",
    "- '[HTML]회사별 공시' inheritance\n",
    "- 경제: https://www.mk.co.kr/rss/30100041/\n",
    "- 증권: https://www.mk.co.kr/rss/50200011/\n",
    "- !CDATA 문제"
   ]
  },
  {
   "cell_type": "code",
   "execution_count": 6,
   "metadata": {},
   "outputs": [],
   "source": [
    "dict = {\n",
    "    '경제':'https://www.mk.co.kr/rss/30100041/',\n",
    "    '증권':'https://www.mk.co.kr/rss/50200011/'\n",
    "}"
   ]
  },
  {
   "cell_type": "code",
   "execution_count": null,
   "metadata": {},
   "outputs": [],
   "source": []
  },
  {
   "cell_type": "code",
   "execution_count": null,
   "metadata": {},
   "outputs": [],
   "source": []
  }
 ],
 "metadata": {
  "kernelspec": {
   "display_name": "Python 3",
   "language": "python",
   "name": "python3"
  },
  "language_info": {
   "codemirror_mode": {
    "name": "ipython",
    "version": 3
   },
   "file_extension": ".py",
   "mimetype": "text/x-python",
   "name": "python",
   "nbconvert_exporter": "python",
   "pygments_lexer": "ipython3",
   "version": "3.7.3"
  }
 },
 "nbformat": 4,
 "nbformat_minor": 2
}
