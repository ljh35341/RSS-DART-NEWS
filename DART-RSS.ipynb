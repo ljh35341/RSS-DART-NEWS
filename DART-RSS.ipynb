{
 "cells": [
  {
   "cell_type": "markdown",
   "metadata": {},
   "source": [
    "# 최근공시\n",
    "- 최근공시는 최근 50개의 공시(지분, 펀드 제외)를 불러옵니다.\n",
    "- RSS: http://dart.fss.or.kr/api/todayRSS.xml"
   ]
  },
  {
   "cell_type": "code",
   "execution_count": 59,
   "metadata": {},
   "outputs": [],
   "source": [
    "from bs4 import BeautifulSoup\n",
    "import requests as rq\n",
    "\n",
    "url = 'http://dart.fss.or.kr/api/todayRSS.xml'\n",
    "res = rq.get(url)\n",
    "soup = BeautifulSoup(res.content, 'lxml')\n",
    "\n",
    "list = []\n",
    "titles = soup.find_all('title')\n",
    "for title in titles:\n",
    "    list.append(title.text)"
   ]
  },
  {
   "cell_type": "code",
   "execution_count": 63,
   "metadata": {
    "scrolled": true
   },
   "outputs": [
    {
     "data": {
      "text/plain": [
       "['DART : 최근공시',\n",
       " '(유가)명문제약 - [기재정정]매출액또는손익구조30%(대규모법인은15%)이상변경',\n",
       " '(코스닥)엠젠플러스 - 기타시장안내(최대주주의의무보유관련)',\n",
       " '(코스닥)코콤 - 주주총회소집결의',\n",
       " '(코스닥)TPC - 현금ㆍ현물배당결정']"
      ]
     },
     "execution_count": 63,
     "metadata": {},
     "output_type": "execute_result"
    }
   ],
   "source": [
    "list[:5]"
   ]
  },
  {
   "cell_type": "markdown",
   "metadata": {},
   "source": [
    "# 회사별 공시\n",
    "- 상장회사의 최근 5영업일의 공시를 불러옵니다.\n",
    "- RSS: http://dart.fss.or.kr/api/companyRSS.xml?crpCd=00199252"
   ]
  },
  {
   "cell_type": "code",
   "execution_count": 82,
   "metadata": {},
   "outputs": [],
   "source": [
    "dict = {\n",
    "    '삼성전자':'00126380',\n",
    "    '에이치엘비':'00199252'\n",
    "}"
   ]
  },
  {
   "cell_type": "code",
   "execution_count": 103,
   "metadata": {},
   "outputs": [],
   "source": [
    "from bs4 import BeautifulSoup\n",
    "import requests as rq\n",
    "\n",
    "list = []\n",
    "for key in dict:\n",
    "    url = 'http://dart.fss.or.kr/api/companyRSS.xml?crpCd='+dict[key]\n",
    "    res = rq.get(url)\n",
    "    soup = BeautifulSoup(res.content, 'lxml')\n",
    "    titles = soup.find_all('title')\n",
    "    for title in titles:\n",
    "        list.append(title.text)"
   ]
  },
  {
   "cell_type": "code",
   "execution_count": 105,
   "metadata": {},
   "outputs": [
    {
     "data": {
      "text/plain": [
       "['DART : (유가)삼성전자의 공시',\n",
       " '(유가)삼성전자 - 감사보고서제출',\n",
       " '(유가)삼성전자 - 임원ㆍ주요주주특정증권등소유상황보고서',\n",
       " '(유가)삼성전자 - 참고서류',\n",
       " '(유가)삼성전자 - 주주총회소집공고']"
      ]
     },
     "execution_count": 105,
     "metadata": {},
     "output_type": "execute_result"
    }
   ],
   "source": [
    "list[:5]"
   ]
  },
  {
   "cell_type": "code",
   "execution_count": null,
   "metadata": {},
   "outputs": [],
   "source": []
  }
 ],
 "metadata": {
  "kernelspec": {
   "display_name": "Python 3",
   "language": "python",
   "name": "python3"
  },
  "language_info": {
   "codemirror_mode": {
    "name": "ipython",
    "version": 3
   },
   "file_extension": ".py",
   "mimetype": "text/x-python",
   "name": "python",
   "nbconvert_exporter": "python",
   "pygments_lexer": "ipython3",
   "version": "3.7.3"
  }
 },
 "nbformat": 4,
 "nbformat_minor": 2
}
